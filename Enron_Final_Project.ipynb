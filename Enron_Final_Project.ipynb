{
 "cells": [
  {
   "cell_type": "markdown",
   "metadata": {},
   "source": [
    "# Enron Scandal Analysis\n",
    "\n",
    "Before bankruptcy in 2001, Enron was one of the leading companies in the energy sector. It was found that the executives in Enron used accounting loopholes and poor financial reports to hide millions of debt and failed projects. With the scandal going public, a significant amount of typically confidential information entered into the public record, including tens of thousands of emails and detailed financial data for top executives. \n",
    "\n",
    "In this project, I build a person of interest (POI) identifier based on financial and email data made public as a result of the Enron scandal. Using Python and Machine Learning techniques, I select my features of interest, train and fit them on my model and predict results on a testing dataset for predictive analysis."
   ]
  },
  {
   "cell_type": "markdown",
   "metadata": {},
   "source": [
    "# 1. Understanding the Dataset"
   ]
  },
  {
   "cell_type": "code",
   "execution_count": 160,
   "metadata": {
    "collapsed": false
   },
   "outputs": [
    {
     "name": "stdout",
     "output_type": "stream",
     "text": [
      "Populating the interactive namespace from numpy and matplotlib\n"
     ]
    }
   ],
   "source": [
    "# Initial imports\n",
    "import sys\n",
    "import os\n",
    "import pickle\n",
    "import re\n",
    "from time import time\n",
    "import pandas as pd \n",
    "import numpy as np\n",
    "import matplotlib.pyplot as plt\n",
    "import seaborn as sns\n",
    "\n",
    "# To show visualizations in iPython\n",
    "%matplotlib inline\n",
    "%pylab inline"
   ]
  },
  {
   "cell_type": "code",
   "execution_count": 161,
   "metadata": {
    "collapsed": false
   },
   "outputs": [],
   "source": [
    "# Loading the data\n",
    "sys.path.append(\".../tools/\")\n",
    "enron_data = pickle.load(open(\"final_project_dataset.pkl\", \"r\"))\n",
    "\n",
    "# Converting Python dictionary to Pandas DataFrame (a personal preference)\n",
    "enron_data = pd.DataFrame.from_dict(enron_data, orient='index', dtype=None)"
   ]
  },
  {
   "cell_type": "markdown",
   "metadata": {},
   "source": [
    "The dataset contains 146 entries as indexes, and 21 features as columns. Each entery, is an observation for a specific person/employee in the company. The features contain financial information for each observation, as well as, their emails addresses. \n",
    "\n",
    "All observations have 1 more feature called `POI`. POI is the abbreviated version of `Person of Interest`. This feature is used to mark whether a specific person in the dataset has been part of the Enron Scandal or not. \n",
    "\n",
    "Looking at the first 5 observations in the dataset:"
   ]
  },
  {
   "cell_type": "code",
   "execution_count": 162,
   "metadata": {
    "collapsed": false
   },
   "outputs": [
    {
     "data": {
      "text/html": [
       "<div>\n",
       "<table border=\"1\" class=\"dataframe\">\n",
       "  <thead>\n",
       "    <tr style=\"text-align: right;\">\n",
       "      <th></th>\n",
       "      <th>salary</th>\n",
       "      <th>to_messages</th>\n",
       "      <th>deferral_payments</th>\n",
       "      <th>total_payments</th>\n",
       "      <th>exercised_stock_options</th>\n",
       "      <th>bonus</th>\n",
       "      <th>restricted_stock</th>\n",
       "      <th>shared_receipt_with_poi</th>\n",
       "      <th>restricted_stock_deferred</th>\n",
       "      <th>total_stock_value</th>\n",
       "      <th>...</th>\n",
       "      <th>loan_advances</th>\n",
       "      <th>from_messages</th>\n",
       "      <th>other</th>\n",
       "      <th>from_this_person_to_poi</th>\n",
       "      <th>poi</th>\n",
       "      <th>director_fees</th>\n",
       "      <th>deferred_income</th>\n",
       "      <th>long_term_incentive</th>\n",
       "      <th>email_address</th>\n",
       "      <th>from_poi_to_this_person</th>\n",
       "    </tr>\n",
       "  </thead>\n",
       "  <tbody>\n",
       "    <tr>\n",
       "      <th>ALLEN PHILLIP K</th>\n",
       "      <td>201955</td>\n",
       "      <td>2902</td>\n",
       "      <td>2869717</td>\n",
       "      <td>4484442</td>\n",
       "      <td>1729541</td>\n",
       "      <td>4175000</td>\n",
       "      <td>126027</td>\n",
       "      <td>1407</td>\n",
       "      <td>-126027</td>\n",
       "      <td>1729541</td>\n",
       "      <td>...</td>\n",
       "      <td>NaN</td>\n",
       "      <td>2195</td>\n",
       "      <td>152</td>\n",
       "      <td>65</td>\n",
       "      <td>False</td>\n",
       "      <td>NaN</td>\n",
       "      <td>-3081055</td>\n",
       "      <td>304805</td>\n",
       "      <td>phillip.allen@enron.com</td>\n",
       "      <td>47</td>\n",
       "    </tr>\n",
       "    <tr>\n",
       "      <th>BADUM JAMES P</th>\n",
       "      <td>NaN</td>\n",
       "      <td>NaN</td>\n",
       "      <td>178980</td>\n",
       "      <td>182466</td>\n",
       "      <td>257817</td>\n",
       "      <td>NaN</td>\n",
       "      <td>NaN</td>\n",
       "      <td>NaN</td>\n",
       "      <td>NaN</td>\n",
       "      <td>257817</td>\n",
       "      <td>...</td>\n",
       "      <td>NaN</td>\n",
       "      <td>NaN</td>\n",
       "      <td>NaN</td>\n",
       "      <td>NaN</td>\n",
       "      <td>False</td>\n",
       "      <td>NaN</td>\n",
       "      <td>NaN</td>\n",
       "      <td>NaN</td>\n",
       "      <td>NaN</td>\n",
       "      <td>NaN</td>\n",
       "    </tr>\n",
       "    <tr>\n",
       "      <th>BANNANTINE JAMES M</th>\n",
       "      <td>477</td>\n",
       "      <td>566</td>\n",
       "      <td>NaN</td>\n",
       "      <td>916197</td>\n",
       "      <td>4046157</td>\n",
       "      <td>NaN</td>\n",
       "      <td>1757552</td>\n",
       "      <td>465</td>\n",
       "      <td>-560222</td>\n",
       "      <td>5243487</td>\n",
       "      <td>...</td>\n",
       "      <td>NaN</td>\n",
       "      <td>29</td>\n",
       "      <td>864523</td>\n",
       "      <td>0</td>\n",
       "      <td>False</td>\n",
       "      <td>NaN</td>\n",
       "      <td>-5104</td>\n",
       "      <td>NaN</td>\n",
       "      <td>james.bannantine@enron.com</td>\n",
       "      <td>39</td>\n",
       "    </tr>\n",
       "    <tr>\n",
       "      <th>BAXTER JOHN C</th>\n",
       "      <td>267102</td>\n",
       "      <td>NaN</td>\n",
       "      <td>1295738</td>\n",
       "      <td>5634343</td>\n",
       "      <td>6680544</td>\n",
       "      <td>1200000</td>\n",
       "      <td>3942714</td>\n",
       "      <td>NaN</td>\n",
       "      <td>NaN</td>\n",
       "      <td>10623258</td>\n",
       "      <td>...</td>\n",
       "      <td>NaN</td>\n",
       "      <td>NaN</td>\n",
       "      <td>2660303</td>\n",
       "      <td>NaN</td>\n",
       "      <td>False</td>\n",
       "      <td>NaN</td>\n",
       "      <td>-1386055</td>\n",
       "      <td>1586055</td>\n",
       "      <td>NaN</td>\n",
       "      <td>NaN</td>\n",
       "    </tr>\n",
       "    <tr>\n",
       "      <th>BAY FRANKLIN R</th>\n",
       "      <td>239671</td>\n",
       "      <td>NaN</td>\n",
       "      <td>260455</td>\n",
       "      <td>827696</td>\n",
       "      <td>NaN</td>\n",
       "      <td>400000</td>\n",
       "      <td>145796</td>\n",
       "      <td>NaN</td>\n",
       "      <td>-82782</td>\n",
       "      <td>63014</td>\n",
       "      <td>...</td>\n",
       "      <td>NaN</td>\n",
       "      <td>NaN</td>\n",
       "      <td>69</td>\n",
       "      <td>NaN</td>\n",
       "      <td>False</td>\n",
       "      <td>NaN</td>\n",
       "      <td>-201641</td>\n",
       "      <td>NaN</td>\n",
       "      <td>frank.bay@enron.com</td>\n",
       "      <td>NaN</td>\n",
       "    </tr>\n",
       "  </tbody>\n",
       "</table>\n",
       "<p>5 rows × 21 columns</p>\n",
       "</div>"
      ],
      "text/plain": [
       "                    salary to_messages deferral_payments total_payments  \\\n",
       "ALLEN PHILLIP K     201955        2902           2869717        4484442   \n",
       "BADUM JAMES P          NaN         NaN            178980         182466   \n",
       "BANNANTINE JAMES M     477         566               NaN         916197   \n",
       "BAXTER JOHN C       267102         NaN           1295738        5634343   \n",
       "BAY FRANKLIN R      239671         NaN            260455         827696   \n",
       "\n",
       "                   exercised_stock_options    bonus restricted_stock  \\\n",
       "ALLEN PHILLIP K                    1729541  4175000           126027   \n",
       "BADUM JAMES P                       257817      NaN              NaN   \n",
       "BANNANTINE JAMES M                 4046157      NaN          1757552   \n",
       "BAXTER JOHN C                      6680544  1200000          3942714   \n",
       "BAY FRANKLIN R                         NaN   400000           145796   \n",
       "\n",
       "                   shared_receipt_with_poi restricted_stock_deferred  \\\n",
       "ALLEN PHILLIP K                       1407                   -126027   \n",
       "BADUM JAMES P                          NaN                       NaN   \n",
       "BANNANTINE JAMES M                     465                   -560222   \n",
       "BAXTER JOHN C                          NaN                       NaN   \n",
       "BAY FRANKLIN R                         NaN                    -82782   \n",
       "\n",
       "                   total_stock_value           ...           loan_advances  \\\n",
       "ALLEN PHILLIP K              1729541           ...                     NaN   \n",
       "BADUM JAMES P                 257817           ...                     NaN   \n",
       "BANNANTINE JAMES M           5243487           ...                     NaN   \n",
       "BAXTER JOHN C               10623258           ...                     NaN   \n",
       "BAY FRANKLIN R                 63014           ...                     NaN   \n",
       "\n",
       "                   from_messages    other from_this_person_to_poi    poi  \\\n",
       "ALLEN PHILLIP K             2195      152                      65  False   \n",
       "BADUM JAMES P                NaN      NaN                     NaN  False   \n",
       "BANNANTINE JAMES M            29   864523                       0  False   \n",
       "BAXTER JOHN C                NaN  2660303                     NaN  False   \n",
       "BAY FRANKLIN R               NaN       69                     NaN  False   \n",
       "\n",
       "                   director_fees deferred_income long_term_incentive  \\\n",
       "ALLEN PHILLIP K              NaN        -3081055              304805   \n",
       "BADUM JAMES P                NaN             NaN                 NaN   \n",
       "BANNANTINE JAMES M           NaN           -5104                 NaN   \n",
       "BAXTER JOHN C                NaN        -1386055             1586055   \n",
       "BAY FRANKLIN R               NaN         -201641                 NaN   \n",
       "\n",
       "                                 email_address from_poi_to_this_person  \n",
       "ALLEN PHILLIP K        phillip.allen@enron.com                      47  \n",
       "BADUM JAMES P                              NaN                     NaN  \n",
       "BANNANTINE JAMES M  james.bannantine@enron.com                      39  \n",
       "BAXTER JOHN C                              NaN                     NaN  \n",
       "BAY FRANKLIN R             frank.bay@enron.com                     NaN  \n",
       "\n",
       "[5 rows x 21 columns]"
      ]
     },
     "execution_count": 162,
     "metadata": {},
     "output_type": "execute_result"
    }
   ],
   "source": [
    "# Preview the first 5 rows in the dataset\n",
    "enron_data.head()"
   ]
  },
  {
   "cell_type": "code",
   "execution_count": 163,
   "metadata": {
    "collapsed": false
   },
   "outputs": [
    {
     "name": "stdout",
     "output_type": "stream",
     "text": [
      "<class 'pandas.core.frame.DataFrame'>\n",
      "Index: 146 entries, ALLEN PHILLIP K to YEAP SOON\n",
      "Data columns (total 21 columns):\n",
      "salary                       146 non-null object\n",
      "to_messages                  146 non-null object\n",
      "deferral_payments            146 non-null object\n",
      "total_payments               146 non-null object\n",
      "exercised_stock_options      146 non-null object\n",
      "bonus                        146 non-null object\n",
      "restricted_stock             146 non-null object\n",
      "shared_receipt_with_poi      146 non-null object\n",
      "restricted_stock_deferred    146 non-null object\n",
      "total_stock_value            146 non-null object\n",
      "expenses                     146 non-null object\n",
      "loan_advances                146 non-null object\n",
      "from_messages                146 non-null object\n",
      "other                        146 non-null object\n",
      "from_this_person_to_poi      146 non-null object\n",
      "poi                          146 non-null bool\n",
      "director_fees                146 non-null object\n",
      "deferred_income              146 non-null object\n",
      "long_term_incentive          146 non-null object\n",
      "email_address                146 non-null object\n",
      "from_poi_to_this_person      146 non-null object\n",
      "dtypes: bool(1), object(20)\n",
      "memory usage: 24.1+ KB\n"
     ]
    }
   ],
   "source": [
    "# Getting info about type of the data, and number of data points\n",
    "enron_data.info()"
   ]
  },
  {
   "cell_type": "markdown",
   "metadata": {},
   "source": [
    "The financial data points in this dataset are makred as `object`/`string`. Since they are financial information, I need to change their type to numeric. \n",
    "\n",
    "I also saw quite many `NaN` values in the observations which I need to deal with. For the `NaN` values and the sake of this project, I replace all of those with `0.0`. Doing so will not in any ways harm my analysis."
   ]
  },
  {
   "cell_type": "code",
   "execution_count": 164,
   "metadata": {
    "collapsed": false
   },
   "outputs": [],
   "source": [
    "# Replace the 'NaN' values to Numpy NaN\n",
    "enron_data.replace(to_replace='NaN', value=np.nan, inplace=True)\n",
    "\n",
    "# Changing the type of data from object(aka. String) to numeric and filling NaN values with zero\n",
    "enron_data = enron_data.apply(lambda x: pd.to_numeric(x, errors='ignore')).fillna(0)"
   ]
  },
  {
   "cell_type": "markdown",
   "metadata": {},
   "source": [
    "Let's see how the dataset looks after the changes:\n",
    "- The `object` types are all changed to `float64`\n",
    "- The `NaN` values are set to `0.0`"
   ]
  },
  {
   "cell_type": "code",
   "execution_count": 165,
   "metadata": {
    "collapsed": false
   },
   "outputs": [
    {
     "data": {
      "text/plain": [
       "salary                       float64\n",
       "to_messages                  float64\n",
       "deferral_payments            float64\n",
       "total_payments               float64\n",
       "exercised_stock_options      float64\n",
       "bonus                        float64\n",
       "restricted_stock             float64\n",
       "shared_receipt_with_poi      float64\n",
       "restricted_stock_deferred    float64\n",
       "total_stock_value            float64\n",
       "expenses                     float64\n",
       "loan_advances                float64\n",
       "from_messages                float64\n",
       "other                        float64\n",
       "from_this_person_to_poi      float64\n",
       "poi                             bool\n",
       "director_fees                float64\n",
       "deferred_income              float64\n",
       "long_term_incentive          float64\n",
       "email_address                 object\n",
       "from_poi_to_this_person      float64\n",
       "dtype: object"
      ]
     },
     "execution_count": 165,
     "metadata": {},
     "output_type": "execute_result"
    }
   ],
   "source": [
    "# Getting info on the type of dataset after applying the changes\n",
    "enron_data.dtypes"
   ]
  },
  {
   "cell_type": "code",
   "execution_count": 166,
   "metadata": {
    "collapsed": false
   },
   "outputs": [
    {
     "data": {
      "text/html": [
       "<div>\n",
       "<table border=\"1\" class=\"dataframe\">\n",
       "  <thead>\n",
       "    <tr style=\"text-align: right;\">\n",
       "      <th></th>\n",
       "      <th>salary</th>\n",
       "      <th>to_messages</th>\n",
       "      <th>deferral_payments</th>\n",
       "      <th>total_payments</th>\n",
       "      <th>exercised_stock_options</th>\n",
       "      <th>bonus</th>\n",
       "      <th>restricted_stock</th>\n",
       "      <th>shared_receipt_with_poi</th>\n",
       "      <th>restricted_stock_deferred</th>\n",
       "      <th>total_stock_value</th>\n",
       "      <th>...</th>\n",
       "      <th>loan_advances</th>\n",
       "      <th>from_messages</th>\n",
       "      <th>other</th>\n",
       "      <th>from_this_person_to_poi</th>\n",
       "      <th>poi</th>\n",
       "      <th>director_fees</th>\n",
       "      <th>deferred_income</th>\n",
       "      <th>long_term_incentive</th>\n",
       "      <th>email_address</th>\n",
       "      <th>from_poi_to_this_person</th>\n",
       "    </tr>\n",
       "  </thead>\n",
       "  <tbody>\n",
       "    <tr>\n",
       "      <th>ALLEN PHILLIP K</th>\n",
       "      <td>201955.0</td>\n",
       "      <td>2902.0</td>\n",
       "      <td>2869717.0</td>\n",
       "      <td>4484442.0</td>\n",
       "      <td>1729541.0</td>\n",
       "      <td>4175000.0</td>\n",
       "      <td>126027.0</td>\n",
       "      <td>1407.0</td>\n",
       "      <td>-126027.0</td>\n",
       "      <td>1729541.0</td>\n",
       "      <td>...</td>\n",
       "      <td>0.0</td>\n",
       "      <td>2195.0</td>\n",
       "      <td>152.0</td>\n",
       "      <td>65.0</td>\n",
       "      <td>False</td>\n",
       "      <td>0.0</td>\n",
       "      <td>-3081055.0</td>\n",
       "      <td>304805.0</td>\n",
       "      <td>phillip.allen@enron.com</td>\n",
       "      <td>47.0</td>\n",
       "    </tr>\n",
       "    <tr>\n",
       "      <th>BADUM JAMES P</th>\n",
       "      <td>0.0</td>\n",
       "      <td>0.0</td>\n",
       "      <td>178980.0</td>\n",
       "      <td>182466.0</td>\n",
       "      <td>257817.0</td>\n",
       "      <td>0.0</td>\n",
       "      <td>0.0</td>\n",
       "      <td>0.0</td>\n",
       "      <td>0.0</td>\n",
       "      <td>257817.0</td>\n",
       "      <td>...</td>\n",
       "      <td>0.0</td>\n",
       "      <td>0.0</td>\n",
       "      <td>0.0</td>\n",
       "      <td>0.0</td>\n",
       "      <td>False</td>\n",
       "      <td>0.0</td>\n",
       "      <td>0.0</td>\n",
       "      <td>0.0</td>\n",
       "      <td>0</td>\n",
       "      <td>0.0</td>\n",
       "    </tr>\n",
       "    <tr>\n",
       "      <th>BANNANTINE JAMES M</th>\n",
       "      <td>477.0</td>\n",
       "      <td>566.0</td>\n",
       "      <td>0.0</td>\n",
       "      <td>916197.0</td>\n",
       "      <td>4046157.0</td>\n",
       "      <td>0.0</td>\n",
       "      <td>1757552.0</td>\n",
       "      <td>465.0</td>\n",
       "      <td>-560222.0</td>\n",
       "      <td>5243487.0</td>\n",
       "      <td>...</td>\n",
       "      <td>0.0</td>\n",
       "      <td>29.0</td>\n",
       "      <td>864523.0</td>\n",
       "      <td>0.0</td>\n",
       "      <td>False</td>\n",
       "      <td>0.0</td>\n",
       "      <td>-5104.0</td>\n",
       "      <td>0.0</td>\n",
       "      <td>james.bannantine@enron.com</td>\n",
       "      <td>39.0</td>\n",
       "    </tr>\n",
       "    <tr>\n",
       "      <th>BAXTER JOHN C</th>\n",
       "      <td>267102.0</td>\n",
       "      <td>0.0</td>\n",
       "      <td>1295738.0</td>\n",
       "      <td>5634343.0</td>\n",
       "      <td>6680544.0</td>\n",
       "      <td>1200000.0</td>\n",
       "      <td>3942714.0</td>\n",
       "      <td>0.0</td>\n",
       "      <td>0.0</td>\n",
       "      <td>10623258.0</td>\n",
       "      <td>...</td>\n",
       "      <td>0.0</td>\n",
       "      <td>0.0</td>\n",
       "      <td>2660303.0</td>\n",
       "      <td>0.0</td>\n",
       "      <td>False</td>\n",
       "      <td>0.0</td>\n",
       "      <td>-1386055.0</td>\n",
       "      <td>1586055.0</td>\n",
       "      <td>0</td>\n",
       "      <td>0.0</td>\n",
       "    </tr>\n",
       "    <tr>\n",
       "      <th>BAY FRANKLIN R</th>\n",
       "      <td>239671.0</td>\n",
       "      <td>0.0</td>\n",
       "      <td>260455.0</td>\n",
       "      <td>827696.0</td>\n",
       "      <td>0.0</td>\n",
       "      <td>400000.0</td>\n",
       "      <td>145796.0</td>\n",
       "      <td>0.0</td>\n",
       "      <td>-82782.0</td>\n",
       "      <td>63014.0</td>\n",
       "      <td>...</td>\n",
       "      <td>0.0</td>\n",
       "      <td>0.0</td>\n",
       "      <td>69.0</td>\n",
       "      <td>0.0</td>\n",
       "      <td>False</td>\n",
       "      <td>0.0</td>\n",
       "      <td>-201641.0</td>\n",
       "      <td>0.0</td>\n",
       "      <td>frank.bay@enron.com</td>\n",
       "      <td>0.0</td>\n",
       "    </tr>\n",
       "  </tbody>\n",
       "</table>\n",
       "<p>5 rows × 21 columns</p>\n",
       "</div>"
      ],
      "text/plain": [
       "                      salary  to_messages  deferral_payments  total_payments  \\\n",
       "ALLEN PHILLIP K     201955.0       2902.0          2869717.0       4484442.0   \n",
       "BADUM JAMES P            0.0          0.0           178980.0        182466.0   \n",
       "BANNANTINE JAMES M     477.0        566.0                0.0        916197.0   \n",
       "BAXTER JOHN C       267102.0          0.0          1295738.0       5634343.0   \n",
       "BAY FRANKLIN R      239671.0          0.0           260455.0        827696.0   \n",
       "\n",
       "                    exercised_stock_options      bonus  restricted_stock  \\\n",
       "ALLEN PHILLIP K                   1729541.0  4175000.0          126027.0   \n",
       "BADUM JAMES P                      257817.0        0.0               0.0   \n",
       "BANNANTINE JAMES M                4046157.0        0.0         1757552.0   \n",
       "BAXTER JOHN C                     6680544.0  1200000.0         3942714.0   \n",
       "BAY FRANKLIN R                          0.0   400000.0          145796.0   \n",
       "\n",
       "                    shared_receipt_with_poi  restricted_stock_deferred  \\\n",
       "ALLEN PHILLIP K                      1407.0                  -126027.0   \n",
       "BADUM JAMES P                           0.0                        0.0   \n",
       "BANNANTINE JAMES M                    465.0                  -560222.0   \n",
       "BAXTER JOHN C                           0.0                        0.0   \n",
       "BAY FRANKLIN R                          0.0                   -82782.0   \n",
       "\n",
       "                    total_stock_value           ...            loan_advances  \\\n",
       "ALLEN PHILLIP K             1729541.0           ...                      0.0   \n",
       "BADUM JAMES P                257817.0           ...                      0.0   \n",
       "BANNANTINE JAMES M          5243487.0           ...                      0.0   \n",
       "BAXTER JOHN C              10623258.0           ...                      0.0   \n",
       "BAY FRANKLIN R                63014.0           ...                      0.0   \n",
       "\n",
       "                    from_messages      other  from_this_person_to_poi    poi  \\\n",
       "ALLEN PHILLIP K            2195.0      152.0                     65.0  False   \n",
       "BADUM JAMES P                 0.0        0.0                      0.0  False   \n",
       "BANNANTINE JAMES M           29.0   864523.0                      0.0  False   \n",
       "BAXTER JOHN C                 0.0  2660303.0                      0.0  False   \n",
       "BAY FRANKLIN R                0.0       69.0                      0.0  False   \n",
       "\n",
       "                   director_fees  deferred_income  long_term_incentive  \\\n",
       "ALLEN PHILLIP K              0.0       -3081055.0             304805.0   \n",
       "BADUM JAMES P                0.0              0.0                  0.0   \n",
       "BANNANTINE JAMES M           0.0          -5104.0                  0.0   \n",
       "BAXTER JOHN C                0.0       -1386055.0            1586055.0   \n",
       "BAY FRANKLIN R               0.0        -201641.0                  0.0   \n",
       "\n",
       "                                 email_address from_poi_to_this_person  \n",
       "ALLEN PHILLIP K        phillip.allen@enron.com                    47.0  \n",
       "BADUM JAMES P                                0                     0.0  \n",
       "BANNANTINE JAMES M  james.bannantine@enron.com                    39.0  \n",
       "BAXTER JOHN C                                0                     0.0  \n",
       "BAY FRANKLIN R             frank.bay@enron.com                     0.0  \n",
       "\n",
       "[5 rows x 21 columns]"
      ]
     },
     "execution_count": 166,
     "metadata": {},
     "output_type": "execute_result"
    }
   ],
   "source": [
    "enron_data.head()"
   ]
  },
  {
   "cell_type": "markdown",
   "metadata": {},
   "source": [
    "### How many data points are in the dataset?\n",
    "\n",
    "There are 146 observations(i.e. people) in the dataset, and each observation has 21 features (i.e. columns) in the dataset."
   ]
  },
  {
   "cell_type": "code",
   "execution_count": 167,
   "metadata": {
    "collapsed": false
   },
   "outputs": [
    {
     "data": {
      "text/plain": [
       "(146, 21)"
      ]
     },
     "execution_count": 167,
     "metadata": {},
     "output_type": "execute_result"
    }
   ],
   "source": [
    "enron_data.shape"
   ]
  },
  {
   "cell_type": "markdown",
   "metadata": {},
   "source": [
    "### For each person, how many features are available? "
   ]
  },
  {
   "cell_type": "markdown",
   "metadata": {},
   "source": [
    "Based on the shape of the dataset, for each person there are 21 features available."
   ]
  },
  {
   "cell_type": "markdown",
   "metadata": {},
   "source": [
    "### How many POIs are there in the E+F (E-mail + Finance) dataset?\n",
    "\n",
    "There are 18 POI (Person of Interest) in this dataset."
   ]
  },
  {
   "cell_type": "code",
   "execution_count": 168,
   "metadata": {
    "collapsed": false
   },
   "outputs": [
    {
     "data": {
      "text/plain": [
       "18"
      ]
     },
     "execution_count": 168,
     "metadata": {},
     "output_type": "execute_result"
    }
   ],
   "source": [
    "len(enron_data[enron_data['poi']==1]['poi'])"
   ]
  },
  {
   "cell_type": "markdown",
   "metadata": {},
   "source": [
    "Enron was involved in selling assets to shell companies at the end of each month, and buying them back at the beginning of the next month to hide accounting losses. It was also conspiring to give a Saudi prince expedited American citizenship. \n",
    "\n",
    "I would like to also get some info regarding the top executives in Enron during the time the fraud was happening. Information such as:\n",
    "- Who was the CEO of Enron during most of the time that fraud was being perpetrated?\n",
    "    - Jeffrey Skilling\n",
    "- Who was chairman of the Enron board of directors?\n",
    "    - Kenneth Lay\n",
    "- Who was CFO (chief financial officer) of Enron during most of the time that fraud was going on?\n",
    "    - Andrew Fastow"
   ]
  },
  {
   "cell_type": "markdown",
   "metadata": {},
   "source": [
    "### Of these three individuals (Lay, Skilling and Fastow), who took home the most money? \n",
    "\n",
    "Seems like `Kenneth Lay` took home a bit over 100M dollars!"
   ]
  },
  {
   "cell_type": "code",
   "execution_count": 169,
   "metadata": {
    "collapsed": false
   },
   "outputs": [
    {
     "name": "stdout",
     "output_type": "stream",
     "text": [
      "Kenneth Lay ->  103559793.0\n",
      "Jeffrey Skilling ->  8682716.0\n",
      "Andrew Fastow ->  2424083.0\n"
     ]
    }
   ],
   "source": [
    "print \"Kenneth Lay -> \", enron_data['total_payments']['LAY KENNETH L']\n",
    "print \"Jeffrey Skilling -> \", enron_data['total_payments']['SKILLING JEFFREY K']\n",
    "print \"Andrew Fastow -> \", enron_data['total_payments']['FASTOW ANDREW S']"
   ]
  },
  {
   "cell_type": "markdown",
   "metadata": {},
   "source": [
    "## Finding Outliers in the Dataset\n",
    "\n",
    "As with any dataset, the data points in this one can contain outliers that can affect the analysis in a wrong way. To find them out, I start by visualising the patterns among some of the features that are interesting to me.\n",
    "\n",
    "When talking about financial records, salary and bonus can say a lot. I plot these two against each other to see if I find any interesting outliers."
   ]
  },
  {
   "cell_type": "markdown",
   "metadata": {},
   "source": [
    "### An Observation I Don't Need"
   ]
  },
  {
   "cell_type": "code",
   "execution_count": 170,
   "metadata": {
    "collapsed": false
   },
   "outputs": [
    {
     "data": {
      "image/png": "[encoded data removed]",
      "text/plain": [
       "<matplotlib.figure.Figure at 0x11fb36f50>"
      ]
     },
     "metadata": {},
     "output_type": "display_data"
    }
   ],
   "source": [
    "import matplotlib.pyplot as plt\n",
    "#Plotting salary vs. bonus\n",
    "fig, ax = plt.subplots(1,1, figsize=(8,8))\n",
    "plt = plt.scatter(x='salary', y='bonus', data=enron_data)\n",
    "ax.set_title(\"Salary VS. Bonus\")\n",
    "ax.set_xlabel(\"Salary\")\n",
    "ax.set_ylabel(\"Bonus\")\n",
    "fig.savefig(\"salary_bonus.png\")"
   ]
  },
  {
   "cell_type": "markdown",
   "metadata": {},
   "source": [
    "Plotting Salary against Bonus, I see an outlier with over 20M in salary and about 10M in bonus. After investigating the dataset, I found out that this data point belong to an observation named `TOTAL`, which obvisouly is not a person in this dataset. Therefore, it needs to be removed."
   ]
  },
  {
   "cell_type": "code",
   "execution_count": 171,
   "metadata": {
    "collapsed": false
   },
   "outputs": [],
   "source": [
    "#Dropping the row named 'TOTAL' as it does not describe any specific person in the dataset\n",
    "enron_data = enron_data.drop(['TOTAL'])"
   ]
  },
  {
   "cell_type": "markdown",
   "metadata": {},
   "source": [
    "After removing `TOTAL`, the new plot of Salary vs. Bonus shows a more clear distribution of the data points. There are about 4 more outliers to investigate. Two people made bonuses of at least 5 million dollars, and a salary of over 1 million dollars. I need to check and see if they are data points that need to be removed as well or not."
   ]
  },
  {
   "cell_type": "code",
   "execution_count": 172,
   "metadata": {
    "collapsed": false
   },
   "outputs": [
    {
     "data": {
      "image/png": "[encoded data removed]",
      "text/plain": [
       "<matplotlib.figure.Figure at 0x11a84d750>"
      ]
     },
     "metadata": {},
     "output_type": "display_data"
    }
   ],
   "source": [
    "import matplotlib.pyplot as plt\n",
    "#Plotting salary vs. bonus after removing 'TOTAL' \n",
    "fig, ax = plt.subplots(1,1, figsize=(8, 8))\n",
    "plt = plt.scatter(x='salary', y='bonus', data=enron_data, color='g')\n",
    "ax.set_title(\"Salary VS. Bonus after Removing 'TOTAL' Outlier\")\n",
    "ax.set_xlabel(\"Salary\")\n",
    "ax.set_ylabel(\"Bonus\")\n",
    "fig.savefig(\"salary_bonus_no_outlier.png\")"
   ]
  },
  {
   "cell_type": "code",
   "execution_count": 173,
   "metadata": {
    "collapsed": false
   },
   "outputs": [
    {
     "name": "stdout",
     "output_type": "stream",
     "text": [
      "Those with salaries over 1 million dollors:\n",
      "FREVERT MARK A  |  1060932.0\n",
      "LAY KENNETH L  |  1072321.0\n",
      "SKILLING JEFFREY K  |  1111258.0\n",
      "==============================\n",
      "Those with bonuses over 5 million dollors:\n",
      "BELDEN TIMOTHY N  |  5249999.0\n",
      "LAVORATO JOHN J  |  8000000.0\n",
      "LAY KENNETH L  |  7000000.0\n",
      "SKILLING JEFFREY K  |  5600000.0\n"
     ]
    }
   ],
   "source": [
    "print \"Those with salaries over 1 million dollors:\"\n",
    "for i in range(len(enron_data['salary'])):\n",
    "    if enron_data['salary'][i] >= 1000000:\n",
    "        print enron_data.index.values[i], \" | \", enron_data['salary'][i]\n",
    "\n",
    "print \"==============================\"\n",
    "\n",
    "print \"Those with bonuses over 5 million dollors:\"\n",
    "for i in range(len(enron_data['bonus'])):\n",
    "    if enron_data['bonus'][i] >= 5000000:\n",
    "        print enron_data.index.values[i], \" | \", enron_data['bonus'][i]"
   ]
  },
  {
   "cell_type": "code",
   "execution_count": 174,
   "metadata": {
    "collapsed": false
   },
   "outputs": [
    {
     "name": "stdout",
     "output_type": "stream",
     "text": [
      "POI's with salaries over 1 million dollors:\n",
      "LAY KENNETH L  |  1072321.0\n",
      "SKILLING JEFFREY K  |  1111258.0\n",
      "==============================\n",
      "POI's with bonuses over 5 million dollors:\n",
      "BELDEN TIMOTHY N  |  5249999.0\n",
      "LAY KENNETH L  |  7000000.0\n",
      "SKILLING JEFFREY K  |  5600000.0\n"
     ]
    }
   ],
   "source": [
    "print \"POI's with salaries over 1 million dollors:\"\n",
    "for i in range(len(enron_data['salary'])):\n",
    "    if enron_data['salary'][i] >= 1000000 and enron_data['poi'][i] == True:\n",
    "        print enron_data.index.values[i], \" | \", enron_data['salary'][i]\n",
    "\n",
    "print \"==============================\"\n",
    "\n",
    "print \"POI's with bonuses over 5 million dollors:\"\n",
    "for i in range(len(enron_data['bonus'])):\n",
    "    if enron_data['bonus'][i] >= 5000000 and enron_data['poi'][i] == True:\n",
    "        print enron_data.index.values[i], \" | \", enron_data['bonus'][i]"
   ]
  },
  {
   "cell_type": "markdown",
   "metadata": {},
   "source": [
    "Seems the rest of the outliers are actual people in the dataset, more of whom belong to the POI category. Therefore, they are valubale observations for my analysis and I will keep them in the dataset."
   ]
  },
  {
   "cell_type": "markdown",
   "metadata": {},
   "source": [
    "### Are There Any Features Not Contributing to POI?"
   ]
  },
  {
   "cell_type": "markdown",
   "metadata": {},
   "source": [
    "Continuing with cleaning the data, after removing 'TOTAL' as an outlier from the observations, I would like to get some visualisations to see how the features in the dataset contribute to POI. This means I want to find out if any of the features have zero or very few observations which would make them useless for my analysis."
   ]
  },
  {
   "cell_type": "code",
   "execution_count": 175,
   "metadata": {
    "collapsed": false
   },
   "outputs": [
    {
     "data": {
      "image/png": "[encoded data removed]",
      "text/plain": [
       "<matplotlib.figure.Figure at 0x116dc6cd0>"
      ]
     },
     "metadata": {},
     "output_type": "display_data"
    }
   ],
   "source": [
    "import matplotlib.pyplot as plt\n",
    "\n",
    "# Defining the dimension of my grid\n",
    "n_col = 4\n",
    "n_row = len(list(enron_data.columns.values)) // n_col\n",
    "\n",
    "# Adding the plots with 'POI' as the x-axis and each other feature as y-axis\n",
    "i = 0\n",
    "fig, axs = plt.subplots(n_row, n_col, figsize=(28,25))\n",
    "for col_name in list(enron_data.columns.values):\n",
    "    if col_name != 'poi' and col_name != 'email_address':\n",
    "        sns.boxplot(x=\"poi\", y=col_name, data=enron_data, ax=axs[i // n_col, i % 4], \n",
    "                    showfliers=False, palette='RdBu') #removing outliers\n",
    "        i += 1"
   ]
  },
  {
   "cell_type": "markdown",
   "metadata": {},
   "source": [
    "These plots show how many observations I have with regards to each feature and the POI. I removed the outliers from all these plots to be able to see the range more clearly. I see that `restricted_stock_deferred`, `loan_advances`, and `director_fees` have no observation with regards to POI. To make sure about this, I perform a simple analysis to see how many observations for each feature are POI. "
   ]
  },
  {
   "cell_type": "code",
   "execution_count": 176,
   "metadata": {
    "collapsed": false
   },
   "outputs": [
    {
     "name": "stdout",
     "output_type": "stream",
     "text": [
      "salary  -> 17 POI out of 94 in total (non-zero)\n",
      "to_messages  -> 14 POI out of 86 in total (non-zero)\n",
      "deferral_payments  -> 5 POI out of 38 in total (non-zero)\n",
      "total_payments  -> 18 POI out of 124 in total (non-zero)\n",
      "exercised_stock_options  -> 12 POI out of 101 in total (non-zero)\n",
      "bonus  -> 16 POI out of 81 in total (non-zero)\n",
      "restricted_stock  -> 17 POI out of 109 in total (non-zero)\n",
      "shared_receipt_with_poi  -> 14 POI out of 86 in total (non-zero)\n",
      "restricted_stock_deferred  -> 0 POI out of 17 in total (non-zero)\n",
      "total_stock_value  -> 18 POI out of 125 in total (non-zero)\n",
      "expenses  -> 18 POI out of 94 in total (non-zero)\n",
      "loan_advances  -> 1 POI out of 3 in total (non-zero)\n",
      "from_messages  -> 14 POI out of 86 in total (non-zero)\n",
      "other  -> 18 POI out of 92 in total (non-zero)\n",
      "from_this_person_to_poi  -> 14 POI out of 66 in total (non-zero)\n",
      "poi  -> 18 POI out of 18 in total (non-zero)\n",
      "director_fees  -> 0 POI out of 16 in total (non-zero)\n",
      "deferred_income  -> 11 POI out of 48 in total (non-zero)\n",
      "long_term_incentive  -> 12 POI out of 65 in total (non-zero)\n",
      "from_poi_to_this_person  -> 14 POI out of 74 in total (non-zero)\n"
     ]
    }
   ],
   "source": [
    "def HowManyPOI(df, col_name):\n",
    "    not_zero = 0\n",
    "    num_poi = 0\n",
    "    for i in range(len(df[col_name])):\n",
    "        if df[col_name][i] != 0.0: #excluding fields that are equal to 0.0\n",
    "            not_zero += 1\n",
    "        if df[col_name][i] != 0.0 and df['poi'][i] == True: #fields for which the POI is set to TRUE\n",
    "            num_poi += 1\n",
    "    print col_name, \" ->\", num_poi, \"POI out of\", not_zero , \"in total (non-zero)\"\n",
    "\n",
    "for col_name in list(enron_data.columns.values):\n",
    "    if col_name == \"email_address\":\n",
    "        continue\n",
    "    HowManyPOI(enron_data, col_name)"
   ]
  },
  {
   "cell_type": "markdown",
   "metadata": {},
   "source": [
    "As seen in the plots, `restricted_stock_deferred` and `director_fees` have zero observation, and `loan_advances` advances has 1 POI out of only 3 observations. Even though `loan_advances` contains some observations, it is not providing any value with regards to predicting a person of interest in the data. I have decided to drop all these three columns from my dataset as well. "
   ]
  },
  {
   "cell_type": "code",
   "execution_count": 177,
   "metadata": {
    "collapsed": false
   },
   "outputs": [],
   "source": [
    "enron_data_2 = enron_data.drop(['restricted_stock_deferred','director_fees','loan_advances'], axis=1)"
   ]
  },
  {
   "cell_type": "markdown",
   "metadata": {},
   "source": [
    "### Another Observation I Don't Need"
   ]
  },
  {
   "cell_type": "markdown",
   "metadata": {},
   "source": [
    "Since the number of observations were not that many in this dataset, I took the liberty to take a manual look at the rows as well. I found one row named `THE TRAVEL AGENCY IN THE PARK` in the dataset and has values set to zero. I removed this row from the dataset as well. Further in the analysis I realized that in `feature_format.py` the code removes this observation; therefore, I decided to let the code remove it later in the analysis that to do it myself.\n",
    "\n",
    "This is how the dataset looks like after removing 1 observation and the 3 unnecessary features:"
   ]
  },
  {
   "cell_type": "code",
   "execution_count": 178,
   "metadata": {
    "collapsed": false
   },
   "outputs": [
    {
     "name": "stdout",
     "output_type": "stream",
     "text": [
      "<class 'pandas.core.frame.DataFrame'>\n",
      "Index: 145 entries, ALLEN PHILLIP K to YEAP SOON\n",
      "Data columns (total 18 columns):\n",
      "salary                     145 non-null float64\n",
      "to_messages                145 non-null float64\n",
      "deferral_payments          145 non-null float64\n",
      "total_payments             145 non-null float64\n",
      "exercised_stock_options    145 non-null float64\n",
      "bonus                      145 non-null float64\n",
      "restricted_stock           145 non-null float64\n",
      "shared_receipt_with_poi    145 non-null float64\n",
      "total_stock_value          145 non-null float64\n",
      "expenses                   145 non-null float64\n",
      "from_messages              145 non-null float64\n",
      "other                      145 non-null float64\n",
      "from_this_person_to_poi    145 non-null float64\n",
      "poi                        145 non-null bool\n",
      "deferred_income            145 non-null float64\n",
      "long_term_incentive        145 non-null float64\n",
      "email_address              145 non-null object\n",
      "from_poi_to_this_person    145 non-null float64\n",
      "dtypes: bool(1), float64(16), object(1)\n",
      "memory usage: 20.5+ KB\n"
     ]
    }
   ],
   "source": [
    "enron_data_2.info()"
   ]
  },
  {
   "cell_type": "markdown",
   "metadata": {},
   "source": [
    "## More Investigation on the Data before Doing the Analysis \n",
    "\n",
    "A few other interesting features for me are those that are related to messages sent to or received by POI. There are features such as `from_poi_to_this_person` and `from_this_person_to_poi` which I plot against each other.\n",
    "\n",
    "Another feature I would like to visualise is `deferral_payments`. Deferred payments relate to those where the borrower can postpone paying back the load. With regards to `salary`, I would like to see who had the most deffered payments, and if that person was a POI."
   ]
  },
  {
   "cell_type": "markdown",
   "metadata": {},
   "source": [
    "### Emails from POIs and to POIs"
   ]
  },
  {
   "cell_type": "code",
   "execution_count": 179,
   "metadata": {
    "collapsed": false
   },
   "outputs": [
    {
     "data": {
      "image/png": "[encoded data removed]",
      "text/plain": [
       "<matplotlib.figure.Figure at 0x11a9d8590>"
      ]
     },
     "metadata": {},
     "output_type": "display_data"
    }
   ],
   "source": [
    "import matplotlib.pyplot as plt\n",
    "\n",
    "#Plotting from_poi vs. to_poi  \n",
    "fig, ax = plt.subplots(1,1, figsize=(8, 8))\n",
    "plt = plt.scatter(x='from_poi_to_this_person', y='from_this_person_to_poi', data=enron_data_2, color='g')\n",
    "ax.set_title(\"From POI VS. to POI E-mail Counts\")\n",
    "ax.set_xlabel(\"From POI\")\n",
    "ax.set_ylabel(\"To POI\")\n",
    "fig.savefig(\"from_poi_to_poi_emails.png\")\n"
   ]
  },
  {
   "cell_type": "markdown",
   "metadata": {},
   "source": [
    "I see a few outliers in the plot:\n",
    "- 2 with more than 300 emails they received from a person of interest\n",
    "- 4 few with about 400 or more emails they sent to a person of interest"
   ]
  },
  {
   "cell_type": "code",
   "execution_count": 180,
   "metadata": {
    "collapsed": false,
    "scrolled": false
   },
   "outputs": [
    {
     "name": "stdout",
     "output_type": "stream",
     "text": [
      "More than 300 E-mails from POI to These People:\n",
      "DIETRICH JANET R  |  305.0\n",
      "LAVORATO JOHN J  |  528.0\n",
      "===================================================\n",
      "More than 300 E-mails from Others to POI:\n",
      "BECK SALLY W  |  386.0\n",
      "DELAINEY DAVID W  |  609.0\n",
      "KEAN STEVEN J  |  387.0\n",
      "LAVORATO JOHN J  |  411.0\n"
     ]
    }
   ],
   "source": [
    "print \"More than 300 E-mails from POI to These People:\"\n",
    "for i in range(len(enron_data_2['from_poi_to_this_person'])):\n",
    "    if enron_data['from_poi_to_this_person'][i] >= 300:\n",
    "        print enron_data.index.values[i], \" | \", enron_data_2['from_poi_to_this_person'][i]\n",
    "        \n",
    "print \"===================================================\"\n",
    "\n",
    "print \"More than 300 E-mails from Others to POI:\"\n",
    "for i in range(len(enron_data_2['from_this_person_to_poi'])):\n",
    "    if enron_data['from_this_person_to_poi'][i] >= 300:\n",
    "        print enron_data.index.values[i], \" | \", enron_data_2['from_this_person_to_poi'][i]"
   ]
  },
  {
   "cell_type": "markdown",
   "metadata": {},
   "source": [
    "From the list above, only 'DELAINEY DAVID W' with 609 emails is POI. The rest of the people are not marked as POI in the dataset. One person that gets my attention is 'LAVORATO JOHN J'. He is not a POI but have sent various emails to POI's and received a significant number of emails from them as well. John Lavorato is also one of those who had received an 8 million bonus just before Enron bankruptcy. \n",
    "\n",
    "By doing some manual search, I found out that he was indeed one of the top executives in the energy unit of Enron."
   ]
  },
  {
   "cell_type": "markdown",
   "metadata": {},
   "source": [
    "### Deferral Paymanets"
   ]
  },
  {
   "cell_type": "code",
   "execution_count": 181,
   "metadata": {
    "collapsed": false
   },
   "outputs": [
    {
     "data": {
      "image/png": "[encoded data removed]",
      "text/plain": [
       "<matplotlib.figure.Figure at 0x11a7f31d0>"
      ]
     },
     "metadata": {},
     "output_type": "display_data"
    }
   ],
   "source": [
    "import matplotlib.pyplot as plt\n",
    "\n",
    "#Plotting from_poi vs. to_poi  \n",
    "fig, ax = plt.subplots(1,1, figsize=(8, 8))\n",
    "plt = plt.scatter(x='salary', y='deferral_payments', data=enron_data_2, color='g')\n",
    "ax.set_title(\"Salary VS. Deferral Payments\")\n",
    "ax.set_xlabel(\"Salary\")\n",
    "ax.set_ylabel(\"Deferral Payments\")\n",
    "fig.savefig(\"salary_deferral_pay.png\")"
   ]
  },
  {
   "cell_type": "markdown",
   "metadata": {},
   "source": [
    "There is an outlier in this plot that interests me: There is one person with a salary over 1M and deferral payments over 6M dollars. I guess it might be a POI, but I need to find out."
   ]
  },
  {
   "cell_type": "code",
   "execution_count": 182,
   "metadata": {
    "collapsed": false
   },
   "outputs": [
    {
     "name": "stdout",
     "output_type": "stream",
     "text": [
      "More than 5 Million in Deferral Payments:\n",
      "FREVERT MARK A  |  6426990.0\n"
     ]
    }
   ],
   "source": [
    "print \"More than 5 Million in Deferral Payments:\"\n",
    "for i in range(len(enron_data_2['deferral_payments'])):\n",
    "    if enron_data_2['deferral_payments'][i] >= 6000000:\n",
    "        print enron_data_2.index.values[i], \" | \", enron_data_2['deferral_payments'][i]\n"
   ]
  },
  {
   "cell_type": "markdown",
   "metadata": {},
   "source": [
    "Based on the results above, surprisingly the huge 6M deferral payment does not belong to a POI. By doing some research I found out that he used to be one of the CEO's of Enron. He could definately be a person of interest but not marked as so in this dataset."
   ]
  },
  {
   "cell_type": "markdown",
   "metadata": {},
   "source": [
    "# 2. Optimize Feature Selection/Engineering\n",
    "\n",
    "In this section I will select the features I end up using in my POI identifier, and I share the selection process I go through. I explain further about new features I created, how I rescaled them (if applicable). \n",
    "\n",
    "Later using the algorithms - in section 3 - I point out if I use any specific feature selection method and provide feature importances for those selections.\n",
    "\n",
    "In the feature selection step, if I use an algorithm like a decision tree, I will give the feature importances of the features that I use, and if I use an automated feature selection function like SelectKBest, I report the feature scores and reasons for my choice of parameter values. "
   ]
  },
  {
   "cell_type": "markdown",
   "metadata": {},
   "source": [
    "## Adding Two New Features"
   ]
  },
  {
   "cell_type": "markdown",
   "metadata": {},
   "source": [
    "In my dataset, I have two features called `from_this_person_to_poi` and `from_poi_to_this_person`. From the visualisations I did in while exploring the data, I could not find any strong connection between these two features. Therefore, maybe the number of emails sent to or from a person of interest (POI) is not that helpful. One thing I can do is to scale these features by the total number of messages to/from this person.\n",
    "\n",
    "This means to calculate:\n",
    "- number of emails from a POI to a given person / total number of emails to that person\n",
    "- number of emails to a POI from a given person / total number of emails from that person\n",
    "\n",
    "These two calculations give me the fraction of emails send from/to a given person to/from a POI. This can clarify what portion of an employee's emails were dedicated to/from POIs. If that person is not marked as a POI him/herself, then it might raise the question of whether that person was involved in the fraud or not.\n",
    "\n",
    "Given a number of messages to/from POI (numerator) and number of all messages to/from a person (denominator),I return the fraction of messages to/from that person that are from/to a POI."
   ]
  },
  {
   "cell_type": "code",
   "execution_count": 183,
   "metadata": {
    "collapsed": false
   },
   "outputs": [],
   "source": [
    "# Adding two new columns to my existing dataframe\n",
    "enron_data_2['fraction_from_poi'] = \"\"\n",
    "enron_data_2['fraction_to_poi'] = \"\"\n",
    "\n",
    "# Looping through each row to calculate the fraction for to and from emails\n",
    "for i in range(len(enron_data_2['to_messages'])):\n",
    "    if enron_data_2['to_messages'][i] != 0.0:\n",
    "        v = float(enron_data_2['from_poi_to_this_person'][i]) / float(enron_data_2['to_messages'][i])\n",
    "        enron_data_2.set_value(enron_data_2.index[i], 'fraction_from_poi', v)\n",
    "        \n",
    "    if enron_data_2['to_messages'][i] == 0.0 and enron_data_2['from_poi_to_this_person'][i] == 0.0:\n",
    "        enron_data_2.set_value(enron_data_2.index[i], 'fraction_from_poi', 0.0)\n",
    "\n",
    "    if enron_data_2['from_messages'][i] != 0.0:\n",
    "        v = float(enron_data_2['from_this_person_to_poi'][i]) / float(enron_data_2['from_messages'][i])\n",
    "        enron_data_2.set_value(enron_data_2.index[i], 'fraction_to_poi', v)\n",
    "        \n",
    "    if enron_data_2['from_messages'][i] == 0.0 and enron_data_2['from_this_person_to_poi'][i] == 0.0:\n",
    "        enron_data_2.set_value(enron_data_2.index[i], 'fraction_to_poi', 0.0)\n",
    "        "
   ]
  },
  {
   "cell_type": "markdown",
   "metadata": {},
   "source": [
    "Plotting the two new features to understand the relationship between them better."
   ]
  },
  {
   "cell_type": "code",
   "execution_count": 184,
   "metadata": {
    "collapsed": false
   },
   "outputs": [
    {
     "data": {
      "image/png": "[encoded data removed]",
      "text/plain": [
       "<matplotlib.figure.Figure at 0x11a6dbc90>"
      ]
     },
     "metadata": {},
     "output_type": "display_data"
    }
   ],
   "source": [
    "import matplotlib.pyplot as plt\n",
    "\n",
    "#Plotting from_poi vs. to_poi  \n",
    "fig, ax = plt.subplots(1,1, figsize=(8, 8))\n",
    "plt = plt.scatter(x='fraction_from_poi', y='fraction_to_poi', data=enron_data_2, color='g')\n",
    "ax.set_title(\"Fraction of E-mails to/from POI\")\n",
    "ax.set_xlabel(\"From POI\")\n",
    "ax.set_ylabel(\"To POI\")\n",
    "fig.savefig(\"emails_to_from_poi.png\")"
   ]
  },
  {
   "cell_type": "markdown",
   "metadata": {},
   "source": [
    "There are a few outliers in this plot. Let's print out the names and see who they are:"
   ]
  },
  {
   "cell_type": "code",
   "execution_count": 185,
   "metadata": {
    "collapsed": false
   },
   "outputs": [
    {
     "name": "stdout",
     "output_type": "stream",
     "text": [
      "More than 0.15 of Emails are from POI to This Person:\n",
      "DEFFNER JOSEPH M  |  0.16106442577\n",
      "DONAHUE JR JEFFREY M  |  0.217341040462\n"
     ]
    }
   ],
   "source": [
    "print \"More than 0.15 of Emails are from POI to This Person:\"\n",
    "for i in range(len(enron_data_2['fraction_from_poi'])):\n",
    "    if enron_data_2['fraction_from_poi'][i] >= 0.15:\n",
    "        print enron_data_2.index.values[i], \" | \", enron_data_2['fraction_from_poi'][i]"
   ]
  },
  {
   "cell_type": "code",
   "execution_count": 186,
   "metadata": {
    "collapsed": false
   },
   "outputs": [
    {
     "name": "stdout",
     "output_type": "stream",
     "text": [
      "More than 0.8 of Emails are from This Person to POI:\n",
      "HUMPHREY GENE E  |  1.0\n"
     ]
    }
   ],
   "source": [
    "print \"More than 0.8 of Emails are from This Person to POI:\"\n",
    "for i in range(len(enron_data_2['fraction_to_poi'])):\n",
    "    if enron_data_2['fraction_to_poi'][i] >= 0.8:\n",
    "        print enron_data_2.index.values[i], \" | \", enron_data_2['fraction_to_poi'][i]"
   ]
  },
  {
   "cell_type": "markdown",
   "metadata": {},
   "source": [
    "These are very interesting observations. \n",
    "- HUMPHREY GENE E has sent more than 1.0 of his total E-mails to POI, but not that many emails are sent to him from POIs.\n",
    "- DONAHUE JR JEFFREY M has received about 0.22 of his inbox from a POI\n",
    "- DEFFNER JOSEPH M has received about 0.16 of his inbox from a POI"
   ]
  },
  {
   "cell_type": "markdown",
   "metadata": {},
   "source": [
    "After doing the initial loading and cleaning, this is how the dataset looks like. There are currently 144 observations and 20 features (two new columns were added) in the dataset to be used for analysis."
   ]
  },
  {
   "cell_type": "markdown",
   "metadata": {},
   "source": [
    "# 3. Pick and Tune an Algorithm\n",
    "\n",
    "In this section I try a few different classifiers and observe their precision and recall on predicting the POI labels.\n",
    "\n",
    "From the variety of classifiers, I chose `Naive Bayes`, `Decision Trees`, and `Logistic Regression`. For each algorithm I chose different tuning parameters and feature selection methods too see their performance.\n",
    "\n",
    "The main feature scaling/selection happens in this part, and I apply them as I start working with each classifier. Based on the scores I receive for precision and recall, I end up choosing the algorithm that can fit my model the best. \n",
    "\n",
    "In section 4, I talk more about why I focus on choosing precision, recall and f1-score as my evaluation metrics and why relying only on the accuracy score could not help me in choosing the best algorithm. I also talk about the importance of cross validation which I apply while working with different algorithms."
   ]
  },
  {
   "cell_type": "markdown",
   "metadata": {},
   "source": [
    "For the rest of my analysis I convert the Pandas DataFrame to a dictionary to satisfy the project specifications."
   ]
  },
  {
   "cell_type": "code",
   "execution_count": 187,
   "metadata": {
    "collapsed": false
   },
   "outputs": [
    {
     "name": "stdout",
     "output_type": "stream",
     "text": [
      "Length of data:  145\n"
     ]
    }
   ],
   "source": [
    "# Changing Pandas to dict to work with\n",
    "enron_data2_dict = enron_data_2.to_dict(orient='index')\n",
    "\n",
    "# Setting my_dataset to the dictionary to satisfy the project specifications\n",
    "my_dataset = enron_data2_dict\n",
    "\n",
    "print \"Length of data: \", len(my_dataset)\n"
   ]
  },
  {
   "cell_type": "code",
   "execution_count": 231,
   "metadata": {
    "collapsed": true
   },
   "outputs": [],
   "source": [
    "# Necessary SciKit Learn imports\n",
    "from sklearn.metrics import accuracy_score\n",
    "from sklearn import preprocessing\n",
    "from sklearn.feature_selection import SelectKBest\n",
    "from sklearn.feature_selection import chi2\n",
    "from sklearn.naive_bayes import GaussianNB\n",
    "from feature_format import featureFormat, targetFeatureSplit\n",
    "from sklearn.cross_validation import train_test_split\n",
    "from sklearn.metrics import accuracy_score\n",
    "from tester import test_classifier, dump_classifier_and_data\n",
    "from sklearn.metrics import recall_score\n",
    "from sklearn.metrics import precision_score\n",
    "from sklearn.metrics import f1_score\n",
    "from sklearn import svm, grid_search, datasets\n",
    "from sklearn import linear_model, datasets\n",
    "from sklearn import tree\n",
    "from sklearn.cross_validation import StratifiedShuffleSplit\n",
    "from sklearn.pipeline import Pipeline"
   ]
  },
  {
   "cell_type": "markdown",
   "metadata": {},
   "source": [
    "## Features I Select for Analysis\n",
    "\n",
    "After cleaning the data in section 2 and feature engineering in section 3, I decided to choose the following features in my `features_list`. "
   ]
  },
  {
   "cell_type": "code",
   "execution_count": 190,
   "metadata": {
    "collapsed": false
   },
   "outputs": [],
   "source": [
    "# list of my selected features after cleaning the data from outliers/features I didn't need\n",
    "features_list = ['poi','salary','to_messages', 'deferral_payments',\n",
    "                'total_payments','exercised_stock_options','bonus','restricted_stock',\n",
    "                'shared_receipt_with_poi','total_stock_value','expenses','from_messages',\n",
    "                'other','from_this_person_to_poi','deferred_income','long_term_incentive',\n",
    "                'from_poi_to_this_person', 'fraction_from_poi', 'fraction_to_poi']\n",
    "\n",
    "# Separating the features_list to features and labels for analysis\n",
    "# POI is the label and every else from features_list[1:] are counted as features\n",
    "data = featureFormat(my_dataset, features_list, sort_keys = True)\n",
    "labels, features = targetFeatureSplit(data)"
   ]
  },
  {
   "cell_type": "markdown",
   "metadata": {},
   "source": [
    "## Feature Selection: SelectKBest\n",
    "\n",
    "Trying a method for feature selection, I am going to use SelectKBest from feature_selection in SciKit Learn. I use this feature selection method with `Naive Bayes` and `Logistic Regression` algorithms.\n",
    "\n",
    "I ran into a problem while transforming my data, and that was a ValueError complaining about negative values in the dataset for features. To solve this problem, I used **MinMaxScaler()** to scale features between [0,1] and get rid of the negative values this way."
   ]
  },
  {
   "cell_type": "markdown",
   "metadata": {},
   "source": [
    "## Feature Scaling: Using MinMaxScaler() before Applying SelectKBest"
   ]
  },
  {
   "cell_type": "code",
   "execution_count": 192,
   "metadata": {
    "collapsed": false
   },
   "outputs": [
    {
     "name": "stdout",
     "output_type": "stream",
     "text": [
      "Shape of features after rescaling ->  (144, 18)\n",
      "How features look after rescaling: \n",
      "[[ 0.          0.          0.04310903  0.00176194  0.00750594  0.\n",
      "   0.1499748   0.          0.0061421   0.01523848  0.          0.          0.\n",
      "   1.          0.          0.          0.          0.        ]]\n"
     ]
    }
   ],
   "source": [
    "# Standardization of features using MinMaxScaler() to values between [0,1]\n",
    "min_max_scaler = preprocessing.MinMaxScaler()\n",
    "features_minmax = min_max_scaler.fit_transform(features)\n",
    "print \"Shape of features after rescaling -> \", features_minmax.shape\n",
    "print \"How features look after rescaling: \"\n",
    "print features_minmax[1:2]"
   ]
  },
  {
   "cell_type": "markdown",
   "metadata": {},
   "source": [
    "After scaling the features, I continue with SelectKBest method and see which features have more importance over others. I do this evaluation by calculating the score of each feature selected by SelectKBest method."
   ]
  },
  {
   "cell_type": "code",
   "execution_count": 223,
   "metadata": {
    "collapsed": false
   },
   "outputs": [
    {
     "name": "stdout",
     "output_type": "stream",
     "text": [
      "                    feature      score\n",
      "0   exercised_stock_options  25.097542\n",
      "1         total_stock_value  24.467654\n",
      "2                     bonus  21.060002\n",
      "3                    salary  18.575703\n",
      "4           fraction_to_poi  16.641707\n",
      "5           deferred_income  11.595548\n",
      "6       long_term_incentive  10.072455\n",
      "7          restricted_stock   9.346701\n",
      "8            total_payments   8.866722\n",
      "9   shared_receipt_with_poi   8.746486\n",
      "10                 expenses   6.234201\n",
      "11  from_poi_to_this_person   5.344942\n",
      "12                    other   4.204971\n",
      "13        fraction_from_poi   3.210762\n",
      "14  from_this_person_to_poi   2.426508\n",
      "15              to_messages   1.698824\n",
      "16        deferral_payments   0.217059\n",
      "17            from_messages   0.164164\n"
     ]
    }
   ],
   "source": [
    "for num in range(1, 19):\n",
    "    kbest = SelectKBest(k=num)\n",
    "    features_new = kbest.fit_transform(features, labels)\n",
    "\n",
    "# Showing the score of each feature, sorted by the most important\n",
    "results = zip(features_list[1:], kbest.scores_)\n",
    "results = sorted(results, key=lambda x: x[1], reverse=True)\n",
    "\n",
    "# Printing the results in a pretty dataframe\n",
    "print pd.DataFrame(results, columns = [\"feature\", \"score\"])"
   ]
  },
  {
   "cell_type": "markdown",
   "metadata": {},
   "source": [
    "The first 5 important features are now visible from the above dataframe. One of the new features I created based on the number of emails sent to POI from a person `fraction_to_poi` has gotten a high score, placing that feature among the top-5 in my dataset.\n",
    "\n",
    "I will use these scores to see how my algorithm responds to them with regards to precision and recall scores."
   ]
  },
  {
   "cell_type": "markdown",
   "metadata": {},
   "source": [
    "## Algorithm 1: Gaussian Naive Bayes"
   ]
  },
  {
   "cell_type": "markdown",
   "metadata": {},
   "source": [
    "I wrote SelectKBest in a way to choose all the features based on their scores. I have 18 features in my dataset and SelectKBest started by choosing k=1 (the feature with the highest score), and continued to add features to this list with each iteration, going up to k=18.\n",
    "\n",
    "From the analysis done, I choose the set of features that have the highest Precision and Recall scores, and they are both above 0.3\n",
    "\n",
    "The most important features which gave me the highest precision and recall scores are when k=5.\n",
    "\n",
    "The Precision, Recall, and F1 scores for these features are:\n",
    "- Precision: 0.42848\t\t\n",
    "- Recall: 0.34450\n",
    "- F1-score 0.38193\n",
    "\n"
   ]
  },
  {
   "cell_type": "code",
   "execution_count": 235,
   "metadata": {
    "collapsed": false
   },
   "outputs": [
    {
     "name": "stderr",
     "output_type": "stream",
     "text": [
      "//anaconda/lib/python2.7/site-packages/sklearn/metrics/classification.py:1074: UndefinedMetricWarning: F-score is ill-defined and being set to 0.0 due to no predicted samples.\n",
      "  'precision', 'predicted', average, warn_for)\n"
     ]
    }
   ],
   "source": [
    "# Choosing Naive Bayes algorithm\n",
    "nb_algorithm = GaussianNB()\n",
    "\n",
    "# Scaling the feature values between [0,1] to remove any negative value\n",
    "scaler = preprocessing.MinMaxScaler()\n",
    "\n",
    "# Do feature selection using SelectKBest to have features with the highest scores\n",
    "kbest = SelectKBest()\n",
    "\n",
    "# Tuning parameters to be used in the algorithm\n",
    "param_grid = {'kbest__k' : list(range(1,(len(features_list)-1)))}\n",
    "\n",
    "# Spliting data randomly to train and test for cross validation\n",
    "sss = StratifiedShuffleSplit(labels, 1000, random_state = 1)\n",
    "\n",
    "# Putting it all together in a pipeline\n",
    "pipe =  Pipeline(steps=[('scaler',scaler),('kbest', kbest), (\"nb_algorithm\", nb_algorithm)])\n",
    "\n",
    "# Creating the classifier to fit\n",
    "nbcclf = grid_search.GridSearchCV(pipe, param_grid, scoring='f1', cv=sss)\n",
    "\n",
    "nbcclf.fit(features, labels)\n",
    "\n",
    "# Choose the best estimator among different features that were selected\n",
    "clf = nbcclf.best_estimator_\n"
   ]
  },
  {
   "cell_type": "code",
   "execution_count": 239,
   "metadata": {
    "collapsed": false
   },
   "outputs": [
    {
     "name": "stdout",
     "output_type": "stream",
     "text": [
      "Pipeline(steps=[('scaler', MinMaxScaler(copy=True, feature_range=(0, 1))), ('kbest', SelectKBest(k=5, score_func=<function f_classif at 0x11e5a1488>)), ('nb_algorithm', GaussianNB())])\n",
      "\tAccuracy: 0.85133\tPrecision: 0.42848\tRecall: 0.34450\tF1: 0.38193\tF2: 0.35856\n",
      "\tTotal predictions: 15000\tTrue positives:  689\tFalse positives:  919\tFalse negatives: 1311\tTrue negatives: 12081\n",
      "\n"
     ]
    }
   ],
   "source": [
    "# Running the algorithm on the test data and get the needed scores\n",
    "test_classifier(clf, my_dataset, features_list)"
   ]
  },
  {
   "cell_type": "markdown",
   "metadata": {},
   "source": [
    "## Algorithm 2: DecisionTree"
   ]
  },
  {
   "cell_type": "markdown",
   "metadata": {},
   "source": [
    "Like my Naive Bayes classifier, for my Decision Tree classifier, I use SelectKBest to do the automatic feature selection for me, and choose features based on their scores. Then I use `scaler` to standardize the values between [0,1] and avoid any issues that raise from having negative values in the analysis.\n",
    "\n",
    "To tune my DecisionTree classifier, I chose `min_samples_split` and `min_samples_leaf` as two parameters, and manually suggested different values for them. \n",
    "- min_samples_split relates to the minimum number of samples required to split an internal node (default=2)\n",
    "- min_samples_leaf relates to the minimum number of samples required to be at a leaf node (default=1)\n",
    "\n",
    "The number of samples I chose were simply based on the numbers of features I have in my dataset. With 18 features, I thought it would make sense to have the minimum logical number of samples (i.e. 2) up to about 6.\n",
    "\n",
    "After running the classifier through `test_calssifier`, here are the values I got for Precision, Recall and F1-score:\n",
    "- Precision 0.33025\n",
    "- Recall 0.32150\n",
    "- F1-score F1: 0.32582"
   ]
  },
  {
   "cell_type": "code",
   "execution_count": 245,
   "metadata": {
    "collapsed": false
   },
   "outputs": [],
   "source": [
    "# Choosing decision tree algorithm\n",
    "dtree =  tree.DecisionTreeClassifier()\n",
    "\n",
    "# Scaling the feature values between [0,1] to remove any negative value\n",
    "scaler = preprocessing.MinMaxScaler()\n",
    "\n",
    "# Do feature selection using SelectKBest to have features with the highest scores\n",
    "kbest = SelectKBest()\n",
    "\n",
    "# Tuning the algorithm parameters\n",
    "param_grid = {\"dtree__min_samples_split\": [2,4,6], # use 3 different set of minimum split\n",
    "              \"dtree__min_samples_leaf\":[2,4,6],\n",
    "              'kbest__k' : list(range(1,(len(features_list)-1)))}\n",
    "\n",
    "# Spliting data randomly to train and test for cross validation\n",
    "sss = StratifiedShuffleSplit(labels, 1000, random_state = 1)\n",
    "\n",
    "# Putting it all together in a pipeline\n",
    "pipe =  Pipeline(steps=[('scaler',scaler),('kbest', kbest), (\"dtree\", dtree)])\n",
    "\n",
    "# Creating the classifier to fit\n",
    "nbcclf = grid_search.GridSearchCV(pipe, param_grid, scoring='f1', cv=sss)\n",
    "\n",
    "nbcclf.fit(features, labels)\n",
    "\n",
    "# Choose the best estimator among different features that were selected\n",
    "clf = dtcclf.best_estimator_"
   ]
  },
  {
   "cell_type": "code",
   "execution_count": 246,
   "metadata": {
    "collapsed": false
   },
   "outputs": [
    {
     "name": "stdout",
     "output_type": "stream",
     "text": [
      "Pipeline(steps=[('scaler', MinMaxScaler(copy=True, feature_range=(0, 1))), ('kbest', SelectKBest(k=14, score_func=<function f_classif at 0x11e5a1488>)), ('dtree', DecisionTreeClassifier(class_weight=None, criterion='gini', max_depth=None,\n",
      "            max_features=None, max_leaf_nodes=None, min_samples_leaf=1,\n",
      "            min_samples_split=2, min_weight_fraction_leaf=0.0,\n",
      "            presort=False, random_state=None, splitter='best'))])\n",
      "\tAccuracy: 0.82260\tPrecision: 0.33025\tRecall: 0.32150\tF1: 0.32582\tF2: 0.32321\n",
      "\tTotal predictions: 15000\tTrue positives:  643\tFalse positives: 1304\tFalse negatives: 1357\tTrue negatives: 11696\n",
      "\n"
     ]
    }
   ],
   "source": [
    "test_classifier(clf, my_dataset, features_list)"
   ]
  },
  {
   "cell_type": "markdown",
   "metadata": {
    "collapsed": true
   },
   "source": [
    "## Algorithm 3: Logistic Regression"
   ]
  },
  {
   "cell_type": "markdown",
   "metadata": {},
   "source": [
    "As another algorithm to try, I chose Logistic Regression and apply SelectKBest to select features with the highest scores. Then I use scaler to standardize the values between [0,1] and avoid any issues that raise from having negative values in the analysis.\n",
    "\n",
    "To tune my DecisionTree classifier, I chose `C` to change the regularization in my algorithm. A smaller `C` usually shows stronger regularization. With GridSearchCV, I can choose the value that fits best to my algorithm.\n",
    "\n",
    "After running the classifier through test_calssifier, here are the values I got for Precision, Recall and F1-score:\n",
    "- Precision 0.46463\n",
    "- Recall 0.22000\n",
    "- F1-score 0.29861\n",
    " "
   ]
  },
  {
   "cell_type": "code",
   "execution_count": 249,
   "metadata": {
    "collapsed": false
   },
   "outputs": [],
   "source": [
    "# Choosing decision tree algorithm\n",
    "lgr =  linear_model.LogisticRegression()\n",
    "\n",
    "# Scaling the feature values between [0,1] to remove any negative value\n",
    "scaler = preprocessing.MinMaxScaler()\n",
    "\n",
    "# Do feature selection using SelectKBest to have features with the highest scores\n",
    "kbest = SelectKBest()\n",
    "\n",
    "# Tuning the algorithm parameters\n",
    "param_grid = {'lgr__C': [0.1, 1, 10, 100, 1000], # parameter for logistic regression to change regularization\n",
    "              'kbest__k' : list(range(1,(len(features_list)-1)))}\n",
    "\n",
    "# Spliting data randomly to train and test for cross validation\n",
    "sss = StratifiedShuffleSplit(labels, 1000, random_state = 1)\n",
    "\n",
    "# Putting it all together in a pipeline\n",
    "pipe =  Pipeline(steps=[('scaler',scaler),('kbest', kbest), (\"lgr\", lgr)])\n",
    "\n",
    "# Creating the classifier to fit\n",
    "lgrcclf = grid_search.GridSearchCV(pipe, param_grid, scoring='f1', cv=sss)\n",
    "\n",
    "lgrcclf.fit(features, labels)\n",
    "\n",
    "# Choose the best estimator among different features that were selected\n",
    "clf = lgrcclf.best_estimator_\n"
   ]
  },
  {
   "cell_type": "code",
   "execution_count": 250,
   "metadata": {
    "collapsed": false
   },
   "outputs": [
    {
     "name": "stdout",
     "output_type": "stream",
     "text": [
      "Pipeline(steps=[('scaler', MinMaxScaler(copy=True, feature_range=(0, 1))), ('kbest', SelectKBest(k=10, score_func=<function f_classif at 0x11e5a1488>)), ('lgr', LogisticRegression(C=100, class_weight=None, dual=False, fit_intercept=True,\n",
      "          intercept_scaling=1, max_iter=100, multi_class='ovr', n_jobs=1,\n",
      "          penalty='l2', random_state=None, solver='liblinear', tol=0.0001,\n",
      "          verbose=0, warm_start=False))])\n",
      "\tAccuracy: 0.86220\tPrecision: 0.46463\tRecall: 0.22000\tF1: 0.29861\tF2: 0.24589\n",
      "\tTotal predictions: 15000\tTrue positives:  440\tFalse positives:  507\tFalse negatives: 1560\tTrue negatives: 12493\n",
      "\n"
     ]
    }
   ],
   "source": [
    "test_classifier(clf, my_dataset, features_list)"
   ]
  },
  {
   "cell_type": "markdown",
   "metadata": {},
   "source": [
    "## What Model to Choose?\n",
    "\n",
    "Based on my analysis and putting the precision, recall and f1-score respectively in the below tables, I choose `Naive Bayes` algorithm as the one that fits my model best."
   ]
  },
  {
   "cell_type": "code",
   "execution_count": 256,
   "metadata": {
    "collapsed": false
   },
   "outputs": [
    {
     "name": "stdout",
     "output_type": "stream",
     "text": [
      "             algorithm  precision  recall  f1-score\n",
      "0          naive bayes    0.42848  0.3445   0.38193\n",
      "1        decision tree    0.33025  0.3215   0.32582\n",
      "2  logistic regression    0.46463  0.2200   0.29861\n"
     ]
    }
   ],
   "source": [
    "prec = [0.42848, 0.33025, 0.46463]\n",
    "rec = [0.34450, 0.32150, 0.22000]\n",
    "f1s = [0.38193, 0.32582, 0.29861]\n",
    "models = ['naive bayes', 'decision tree', 'logistic regression']\n",
    "\n",
    "final_score = zip(models, prec, rec, f1s)\n",
    "\n",
    "# Printing the results in a pretty dataframe\n",
    "print pd.DataFrame(final_score, columns = [\"algorithm\", \"precision\", \"recall\", \"f1-score\"])\n"
   ]
  },
  {
   "cell_type": "markdown",
   "metadata": {},
   "source": [
    "## The Importance of Parameter Tuning When Picking Algorithms\n",
    "\n",
    "Although each algorithm can be strong by itself to predict labels for the testing set, it is always important to tune it in a way to reduce any chance for overfitting the data. Each algorithm used in the analysis can have many parameters; however, I worked with those I felt more comfortable with in terms of how they can change the results.\n",
    "\n",
    "From my selected algorithms, I used parameter tuning for `Decision Tree` and `Logistic Regression`. With `Naive Bayes ` there were no parameter to tune.\n",
    "\n",
    "- With `Decision Tree` I tuned the minimum number of sample split and sample leaf. I manually gave them values based on the number of features I had and thought would make sense for my algorithm.\n",
    "- With `Logistic Regression` I tuned C to play around with regularization. Smaller C shows a strong regularization; however, I wanted to manually select a bunch of values for C and leave it up to GridSearchCV to pick the one that fits the algorithm best.\n"
   ]
  },
  {
   "cell_type": "markdown",
   "metadata": {},
   "source": [
    "# 4. Validate and Evaluate\n",
    "\n",
    "In this section, I will discuss how I evaluate the scores I get from the algorithms I use throughout the analysis, and how I validate those scores and end up choosing the best algorithm."
   ]
  },
  {
   "cell_type": "markdown",
   "metadata": {},
   "source": [
    "## The Importance of Evaluation Metrics in My Analysis \n",
    "\n",
    "For my analysis, I used Precision, Recall and F1-score as my three evaluation metrics to evaluate the efficiency of the algorithms I used.\n",
    "\n",
    "**Precision**\n",
    "\n",
    "In my classification (POI vs. Non-POI), the definition of precision for a class is the number of true positives (i.e. the number of points correctly labeled as POI to the POI class) divided by the total number of data points labeled as POI (i.e. both true positives and false positives, which are points that are incorrectly labeled as POI, but are in fact non-POI)\n",
    "\n",
    "- Precision = (true_POI)/(true_POI + non-POI_marked_as_POI)\n",
    "\n",
    "**Recall**\n",
    "\n",
    "In the same context, the definition of recall for a class is the number of true positives (i.e. the number of points correctly labeled as POI to the POI class) divided by the total number of data points that actually belong to the POI class, but some might be labeled incorrectly as negative (i.e. they belong to POI but are labeled as non-POI)\n",
    "\n",
    "- Recall = (true_POI)/(true_POI + POI_marked_as_non-POI)\n",
    "\n",
    "### Reason for Using Precision and Recall in My Analysis\n",
    "\n",
    "Aside from the small size of the dataset, it is also imbalanced. That is, there are many, many more non-POI than POI in the dataset. If I use `accuracy` as a measure to evaluate my algorithm, I will run into problems. For example, let's say if I want to predict that all Enron employees are non-POI, then I will get an accuracy of 0.87 (i.e. I will predict correctly 87% of the time if I just predict that everyone in the dataset is not a POI). However, this is not what we are looking for with this analysis. What I need to find out is if anyone in the dataset is labeled as POI. Although the accuracy of being a non-POI is quite high, it does not efficiently help me to label true POIs in the dataset. That is why I need to use Precision and Recall for my evaluation.\n",
    "\n",
    "**Another example:**\n",
    "\n",
    "Let's say I have 10 POIs in my dataset, and 15 points in total: \n",
    "- If I predict that 10 out of 15 points are POI, then I could recall 100% how many true POIs there are. If I can recall 7 points as POI, then my recall score is 70%.\n",
    "- If I predict 15 points are POI, this means I can recall all the correct POIs but I am not precise in this process, because I also have false POIs in my recall. This way I still get 100% recall but my precision is reduced to about 66%(10/15)\n",
    "\n",
    "That is why I need both precision and recall scores in my analysis to be able to do justice in choosing an efficient algorithm. This leads me to choosing my third evaluation metric, F1-score.\n",
    "\n",
    "**F1-score**\n",
    "\n",
    "This evaluation metric is the harmonic mean of precision and recall scores. It gives a score by balancing between precision and recall scores.\n",
    "\n",
    "- f1 = 2.0 * true_POI/(2*true_POI + non-POI_marked_as_POI + POI_marked_as_non-POI)\n",
    "\n"
   ]
  },
  {
   "cell_type": "markdown",
   "metadata": {},
   "source": [
    "## Why Is Validation Important?\n",
    "\n",
    "Cross validation is a way to measure the predictive performance of a model (aka. algorithm) we apply to our data. A classic mistake while performing cross validation is to overfit the data.\n",
    "\n",
    "One way to measure the performance of our model is to run it on a set of test data; however, this alone cannot always help in identifying whether a predictive performance is precise and accurate. For isntance, sometimes the size of data is not that big (which is the case in this project); therefore, the model cannot properly get trained and tested. This is where we need cross validation.\n",
    "\n",
    "By choosing various number of train and test data, cross validation help us make more sense out of our model in term of the *real world*. \n",
    "\n",
    "Choosing different sets of train and test data by hand cannot be accurate as it significanly depends on how the data is presented. Using different data splitting methods in cross validation makes sure that the split that fits our model best is chosen. Also, with regards to parameter tuning (e.g. C in Logistic Regression model), cross validation helped me choose a suitable one from the range I had specified for it."
   ]
  }
 ],
 "metadata": {
  "anaconda-cloud": {},
  "kernelspec": {
   "display_name": "Python [Root]",
   "language": "python",
   "name": "Python [Root]"
  },
  "language_info": {
   "codemirror_mode": {
    "name": "ipython",
    "version": 2
   },
   "file_extension": ".py",
   "mimetype": "text/x-python",
   "name": "python",
   "nbconvert_exporter": "python",
   "pygments_lexer": "ipython2",
   "version": "2.7.12"
  }
 },
 "nbformat": 4,
 "nbformat_minor": 0
}
